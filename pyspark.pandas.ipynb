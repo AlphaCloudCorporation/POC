{
 "cells": [
  {
   "cell_type": "code",
   "execution_count": 0,
   "metadata": {
    "application/vnd.databricks.v1+cell": {
     "cellMetadata": {
      "byteLimit": 2048000,
      "rowLimit": 10000
     },
     "inputWidgets": {},
     "nuid": "d59685f7-0215-4631-b98b-0f367141979f",
     "showTitle": false,
     "tableResultSettingsMap": {},
     "title": ""
    }
   },
   "outputs": [],
   "source": [
    "import numpy as np\n",
    "import pyspark as ps\n",
    "import pyspark.pandas as pd\n",
    "from pyspark.sql.functions import col\n",
    "from pyspark.sql import SparkSession, Window\n",
    "from pyspark.ml.linalg import Vectors\n",
    "\n",
    "spark = SparkSession.builder.getOrCreate()\n",
    "spark.conf.set(\"spark.sql.ansi.enabled\", \"false\")\n",
    "spark.conf.set(\"spark.sql.execution.arrow.pyspark.enabled\", \"true\")\n",
    "np.random.seed(42)\n",
    "\n",
    "#Tout les colones requises pour le calcul doivent faire partie du meme dataframe\n",
    "df = pd.DataFrame({\n",
    "    'taux_hyp': np.random.rand(2000),\n",
    "    'frequence': np.random.rand(2000),\n",
    "    'maturity': np.random.randint(200,size=2000),\n",
    "    'versement': np.random.rand(2000),\n",
    "    'solde_capital': np.random.rand(2000),\n",
    "    'tx_interet': 0,\n",
    "    'cf_mortgage': 0\n",
    "})\n",
    "\n",
    "#Ajout des 1200 Cashflow\n",
    "colones = dict()\n",
    "for i in range(1200):\n",
    "    colones[f'Cash Flow {i+1}'] = 0\n",
    "\n",
    "df = df.reindex(columns=list(df.columns) + list(colones.keys()))\n",
    "\n",
    "#Converger vers spark\n",
    "df = df.to_spark()\n",
    "\n",
    "#Retirer les maturity = 0\n",
    "df = df.filter(col(\"maturity\") > 0)\n",
    "\n",
    "#Operations - Cree un nouveau DataFrame avec la nouvelle column calcule\n",
    "df = df.withColumn(\"tx_interet\", col(\"taux_hyp\") / col(\"frequence\"))\n",
    "df = df.withColumn(\"cf_mortgage\", col(\"tx_interet\") * col(\"versement\"))\n",
    "\n",
    "\n",
    "\n",
    "display(df.head(100))\n"
   ]
  },
  {
   "cell_type": "code",
   "execution_count": 0,
   "metadata": {
    "application/vnd.databricks.v1+cell": {
     "cellMetadata": {},
     "inputWidgets": {},
     "nuid": "fa729961-e02b-4842-99dd-5857a6c0d639",
     "showTitle": false,
     "tableResultSettingsMap": {},
     "title": ""
    }
   },
   "outputs": [],
   "source": []
  },
  {
   "cell_type": "code",
   "execution_count": 0,
   "metadata": {
    "application/vnd.databricks.v1+cell": {
     "cellMetadata": {},
     "inputWidgets": {},
     "nuid": "3922c6ac-472a-4ca4-8c1a-993f8cd0edf8",
     "showTitle": false,
     "tableResultSettingsMap": {},
     "title": ""
    }
   },
   "outputs": [],
   "source": [
    "def projection_cf_mortgage(data):\n",
    " \n",
    "    # Initialize the DataFrame\n",
    "    cfs = np.zeros((len(data), 1200))\n",
    "   \n",
    "    # Iterate over each row in the data\n",
    "    for j in range(len(data)):\n",
    "        if data.iloc[j]['maturity']>0:\n",
    "            tx_interet = data.iloc[j]['taux_hyp'] / data.iloc[j]['frequence']\n",
    "            maturity = data.iloc[j]['maturity']\n",
    "            pay_cap = data.iloc[j]['versement']\n",
    "            notionnel_cul = np.zeros(maturity + 1)\n",
    "            notionnel_cul[0] = data.iloc[j]['solde_capital']\n",
    "           \n",
    "            for k in range(maturity):\n",
    "                notionnel_cul[k + 1] = notionnel_cul[k] - pay_cap + notionnel_cul[k]*tx_interet\n",
    "                cfs[j, k] += pay_cap\n",
    " \n",
    "            cfs[j, maturity - 1] += notionnel_cul[maturity]\n",
    " \n",
    "    # Convert the NumPy array to a DataFrame\n",
    "    cfs_df = pd.DataFrame(cfs, columns=[f'Cash Flow {i}' for i in range(1, cfs.shape[1] + 1)])\n",
    "   \n",
    "    # Concatenate the data with the cash flows\n",
    "    result = pd.concat([data.reset_index(drop=True), cfs_df], axis=1)\n",
    "    return result"
   ]
  }
 ],
 "metadata": {
  "application/vnd.databricks.v1+notebook": {
   "computePreferences": null,
   "dashboards": [],
   "environmentMetadata": {
    "base_environment": "",
    "environment_version": "3"
   },
   "inputWidgetPreferences": null,
   "language": "python",
   "notebookMetadata": {
    "pythonIndentUnit": 4
   },
   "notebookName": "pyspark.pandas",
   "widgets": {}
  },
  "language_info": {
   "name": "python"
  }
 },
 "nbformat": 4,
 "nbformat_minor": 0
}
