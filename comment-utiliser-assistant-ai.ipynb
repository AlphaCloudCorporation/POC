{
 "cells": [
  {
   "cell_type": "markdown",
   "metadata": {
    "application/vnd.databricks.v1+cell": {
     "cellMetadata": {},
     "inputWidgets": {},
     "nuid": "b4f72d02-9a88-4f33-b0e2-56698653d87a",
     "showTitle": false,
     "tableResultSettingsMap": {},
     "title": ""
    }
   },
   "source": [
    "# Assistant AI Intégré"
   ]
  },
  {
   "cell_type": "markdown",
   "metadata": {
    "application/vnd.databricks.v1+cell": {
     "cellMetadata": {},
     "inputWidgets": {},
     "nuid": "c2f6d469-4538-472e-805a-e7fc1d21f77c",
     "showTitle": false,
     "tableResultSettingsMap": {},
     "title": ""
    }
   },
   "source": [
    "## Expliquer le contenu du code \n",
    ">L'assistant AI de Databrick peut être utilisé pour expliquer le contenu d'une cellule.\n",
    "- Selectionner la cellule du bas.\n",
    "- Ouvrir la fenêtre de l'assistant AI (CTRL-I)\n",
    "- Écrire la commande suivante /explain\n",
    "- Appuyer sur Generer"
   ]
  },
  {
   "cell_type": "code",
   "execution_count": 0,
   "metadata": {
    "application/vnd.databricks.v1+cell": {
     "cellMetadata": {
      "byteLimit": 2048000,
      "implicitDf": true,
      "rowLimit": 10000
     },
     "inputWidgets": {},
     "nuid": "70325742-dcf0-44cd-8360-7fac9e5818ec",
     "showTitle": true,
     "tableResultSettingsMap": {},
     "title": "Exemple"
    }
   },
   "outputs": [],
   "source": [
    "# Import necessary libraries\n",
    "import numpy as np\n",
    "import matplotlib.pyplot as plt\n",
    "from sklearn.linear_model import LinearRegression\n",
    "from sklearn.model_selection import train_test_split\n",
    "\n",
    "# Sample dataset\n",
    "X = np.array([1, 2, 3, 4, 5]).reshape(-1, 1)  # Independent variable\n",
    "y = np.array([1.5, 3.7, 2.8, 4.9, 6.1])      # Dependent variable\n",
    "\n",
    "# Split the dataset into training and testing sets\n",
    "X_train, X_test, y_train, y_test = train_test_split(X, y, test_size=0.2, random_state=42)\n",
    "\n",
    "# Create and train the Linear Regression model\n",
    "model = LinearRegression()\n",
    "model.fit(X_train, y_train)\n",
    "\n",
    "# Make predictions\n",
    "y_pred = model.predict(X_test)\n",
    "\n",
    "# Print model coefficients\n",
    "print(f\"Coefficient (slope): {model.coef_[0]}\")\n",
    "print(f\"Intercept: {model.intercept_}\")\n",
    "\n",
    "# Plot the results\n",
    "plt.scatter(X, y, color='blue', label='Data points')\n",
    "plt.plot(X, model.predict(X), color='red', label='Regression line')\n",
    "plt.xlabel('Independent Variable')\n",
    "plt.ylabel('Dependent Variable')\n",
    "plt.legend()\n",
    "plt.show()"
   ]
  },
  {
   "cell_type": "markdown",
   "metadata": {
    "application/vnd.databricks.v1+cell": {
     "cellMetadata": {},
     "inputWidgets": {},
     "nuid": "93472211-a1e7-42ff-a16b-957dbd762b16",
     "showTitle": false,
     "tableResultSettingsMap": {},
     "title": ""
    }
   },
   "source": [
    "## Refactorisation du code (standardisé PEP8)\n",
    ">L'assistant AI de Databrick peut être utilisé pour réorganiser votre code, afin de le rendre plus lisible.\n",
    "- Selectionner la cellule du bas.\n",
    "- Ouvrir la fenêtre de l'assistant AI (CTRL-I)\n",
    "- Écrire la prompt suivante : refactor the code to be complaint with PEP8\n",
    "- Appuyer sur Generer"
   ]
  },
  {
   "cell_type": "code",
   "execution_count": 0,
   "metadata": {
    "application/vnd.databricks.v1+cell": {
     "cellMetadata": {},
     "inputWidgets": {},
     "nuid": "3a31d038-243e-40bf-af5d-f01769c7fd00",
     "showTitle": true,
     "tableResultSettingsMap": {},
     "title": "Exemple"
    }
   },
   "outputs": [],
   "source": [
    "# Import necessary libraries\n",
    "import numpy as np\n",
    "import matplotlib.pyplot as plt\n",
    "\n",
    "#Les noms de fonctions doivent etre en miniscule\n",
    "#Séparer les noms par des underscore _\n",
    "def GenererDonneesAleatoires(n):\n",
    "    return np.random.rand(n, 2) * 100\n",
    "\n",
    "#Les nom de variables doivent etre en miniscule\n",
    "#Les noms doivent être séparer par un underscore _ ex : montant_total\n",
    "GENERATED-DATA = GenererDonneesAleatoires(100)\n",
    "X = GENERATED-DATA[:, 0].reshape(-1, 1)"
   ]
  },
  {
   "cell_type": "markdown",
   "metadata": {
    "application/vnd.databricks.v1+cell": {
     "cellMetadata": {},
     "inputWidgets": {},
     "nuid": "cf742b5c-6f53-4a8f-b0f4-a8da38a7d9ae",
     "showTitle": false,
     "tableResultSettingsMap": {},
     "title": ""
    }
   },
   "source": [
    "## Detections et correction des erreurs\n",
    ">L'assistant AI de databrick peut détecter automatiquement les erreures et vous proposer des solutions\n",
    "- Selectionner la cellule du bas.\n",
    "- Ouvrir la fenêtre de l'assistant AI (CTRL-I)\n",
    "- Executer la cellule\n",
    "- Appuyer sur Diagnosic Error\n",
    "- Utiliser l'outil de correction integré pour corriger le problème"
   ]
  },
  {
   "cell_type": "code",
   "execution_count": 0,
   "metadata": {
    "application/vnd.databricks.v1+cell": {
     "cellMetadata": {
      "byteLimit": 2048000,
      "rowLimit": 10000
     },
     "inputWidgets": {},
     "nuid": "edbddbe5-c147-4e0c-a991-4cc2076510b2",
     "showTitle": true,
     "tableResultSettingsMap": {},
     "title": "Exemple"
    }
   },
   "outputs": [],
   "source": [
    "import numpy as np\n",
    "np.random.seed(42)\n",
    "\n",
    "animaux = {\"1\":\"Chien\", \"2\":\"Chat\", \"3\":\"Souris\", \"4\":\"Poisson\", \"5\":\"Ours\"}\n",
    "baleine = animaux[\"6\"] # Depassement de memoire\n",
    "\n",
    "print(baleine)\n",
    "\n",
    "\n"
   ]
  },
  {
   "cell_type": "markdown",
   "metadata": {
    "application/vnd.databricks.v1+cell": {
     "cellMetadata": {},
     "inputWidgets": {},
     "nuid": "4debe0e1-f3d6-49bc-babf-f758de105948",
     "showTitle": false,
     "tableResultSettingsMap": {},
     "title": ""
    }
   },
   "source": [
    "## Convertion SQL en Python (et inversement)\n",
    ">L'assistant AI de databrick peut convertir le language SQL en Python et inverssement.\n",
    "- Selectionner la cellule du bas.\n",
    "- Ouvrir la fenêtre de l'assistant AI (CTRL-I).\n",
    "- Écrire la prompt ci-dessous.\n",
    "- Appuyer sur Generer\n",
    "***\n",
    "*Considering that system.serving.endpoint_usage is related to databrick system database. Convert the SQL code into python code using pyspark as library.*\n",
    "\n",
    "[Note] Nous devons, dans ce cas-ci indiquer à l'assistant AI le context, car dans le monde de Python le chemin system, peut référencer sur autre chose qu'une base de données. Nous devons donc spécifier à l'assistant que system.service.endpoint_usage est un chemin vers une base de données."
   ]
  },
  {
   "cell_type": "code",
   "execution_count": 0,
   "metadata": {
    "application/vnd.databricks.v1+cell": {
     "cellMetadata": {},
     "inputWidgets": {},
     "nuid": "2db36a15-9273-417a-bb6b-eef2c9252980",
     "showTitle": true,
     "tableResultSettingsMap": {},
     "title": "Exemple"
    }
   },
   "outputs": [],
   "source": [
    "%sql\n",
    "SELECT * FROM system.serving.endpoint_usage t where t.status_code = 200"
   ]
  },
  {
   "cell_type": "markdown",
   "metadata": {
    "application/vnd.databricks.v1+cell": {
     "cellMetadata": {},
     "inputWidgets": {},
     "nuid": "b649d927-b95f-47fc-b273-3a070da28c00",
     "showTitle": false,
     "tableResultSettingsMap": {},
     "title": ""
    }
   },
   "source": [
    "## Convertion entre librairies Python (Pandas convertie en pyspark)\n",
    ">L'assistant AI de databrick peut convertir aussi entre deux librairie Python. Dans le cas ci-présent on convertie de Pandas vers Pyspark, ce qui va nous permettre d'augmenter la perfomance de calcul\n",
    "- Selectionner la cellule du bas.\n",
    "- Ouvrir la fenêtre de l'assistant AI (CTRL-I)\n",
    "- Écrire la prompt ci-dessous\n",
    "- Appuyer sur Generer\n",
    "***\n",
    "*Convert the code from the pandas librarie into pyspark librarie code. make sure the import are converted too.*"
   ]
  },
  {
   "cell_type": "code",
   "execution_count": 0,
   "metadata": {
    "application/vnd.databricks.v1+cell": {
     "cellMetadata": {},
     "inputWidgets": {},
     "nuid": "32c069f9-9d58-47fb-889b-ef0fa1c8a957",
     "showTitle": true,
     "tableResultSettingsMap": {},
     "title": "Exemple"
    }
   },
   "outputs": [],
   "source": [
    "import pandas as pd\n",
    "\n",
    "#Cree un jeux de données\n",
    "df = pd.DataFrame({\n",
    "    'Nom': [1, 2, 3],\n",
    "    'Code Postal': [4, 5, 6],\n",
    "    'Age': [38, 21, 19]\n",
    "    })\n",
    "\n",
    "#Modifier nom de colone\n",
    "df = df.rename(columns={'Code Postal': 'CP'})"
   ]
  },
  {
   "cell_type": "markdown",
   "metadata": {
    "application/vnd.databricks.v1+cell": {
     "cellMetadata": {},
     "inputWidgets": {},
     "nuid": "48be3bd5-f078-48ac-a26f-2c41550d2510",
     "showTitle": false,
     "tableResultSettingsMap": {},
     "title": ""
    }
   },
   "source": [
    "## Generation de code\n",
    ">L'assistant AI de Datbrick peut générer du code de qualité pour vous à partir de vos instructions.\n",
    "- Selectionner la cellule du bas (la cellule est vide, c'est normal).\n",
    "- Ouvrir la fenêtre de l'assistant AI (CTRL-I)\n",
    "- Écrire la prompt ci-dessous\n",
    "- Appuyer sur Generer\n",
    "***\n",
    "*Create a linear regression of type y = mx+b and test the regression using b = 0, m = 0.5 and x = 10, 15, 20, 25, 35, 45, 70 and create a plot diagrame to show the distribution*"
   ]
  },
  {
   "cell_type": "code",
   "execution_count": 0,
   "metadata": {
    "application/vnd.databricks.v1+cell": {
     "cellMetadata": {
      "byteLimit": 2048000,
      "rowLimit": 10000
     },
     "inputWidgets": {},
     "nuid": "b3a2a1cd-3919-463d-9a78-45c3af849051",
     "showTitle": true,
     "tableResultSettingsMap": {},
     "title": "Exemple"
    }
   },
   "outputs": [],
   "source": []
  },
  {
   "cell_type": "markdown",
   "metadata": {
    "application/vnd.databricks.v1+cell": {
     "cellMetadata": {},
     "inputWidgets": {},
     "nuid": "e99481b1-1bfb-48f6-8b9d-f7f35fe913b9",
     "showTitle": false,
     "tableResultSettingsMap": {},
     "title": ""
    }
   },
   "source": [
    "## Manipulation & Transformation des données\n",
    ">L'assistant AI de Datbrick peut modifier et transformer votre jeux de données.\n",
    "- Selectionner la cellule du bas (la celulle est vide, c'est normal).\n",
    "- Ouvrir la fenêtre de l'assistant AI (CTRL-I)\n",
    "- Écrire la prompt suivante ci-dessous\n",
    "- Appuyer sur generer\n",
    "***\n",
    "*Using pyspark.pandas, load the CSV file located at /databricks-datasets/airlines/part-00000. \n",
    "Just bring back those columns Year, Month, ArrTime, UniqueCarrier, FlightNum, Distance. \n",
    "Remove all rows where the Column Distance have a null or NaN. \n",
    "Convert the values in the Distance column into a float32 type and reshape the value into a 2D array.\n",
    "Normalize the values in the column Distance.\n",
    "Finally export the Distance column values into a numpy array and display a plot diagramme of the numpy array values*"
   ]
  },
  {
   "cell_type": "code",
   "execution_count": 0,
   "metadata": {
    "application/vnd.databricks.v1+cell": {
     "cellMetadata": {
      "byteLimit": 2048000,
      "rowLimit": 10000
     },
     "inputWidgets": {},
     "nuid": "53f1490e-2c00-4aab-b4cb-e5cae389b471",
     "showTitle": true,
     "tableResultSettingsMap": {
      "0": {
       "dataGridStateBlob": "{\"version\":1,\"tableState\":{\"columnPinning\":{\"left\":[\"#row_number#\"],\"right\":[]},\"columnSizing\":{},\"columnVisibility\":{}},\"settings\":{\"columns\":{}},\"syncTimestamp\":1757440623277}",
       "filterBlob": null,
       "queryPlanFiltersBlob": null,
       "tableResultIndex": 0
      }
     },
     "title": "Exemple"
    }
   },
   "outputs": [],
   "source": []
  }
 ],
 "metadata": {
  "application/vnd.databricks.v1+notebook": {
   "computePreferences": null,
   "dashboards": [],
   "environmentMetadata": {
    "base_environment": "",
    "environment_version": "3"
   },
   "inputWidgetPreferences": null,
   "language": "python",
   "notebookMetadata": {
    "mostRecentlyExecutedCommandWithImplicitDF": {
     "commandId": 5976101695008259,
     "dataframes": [
      "_sqldf"
     ]
    },
    "pythonIndentUnit": 4
   },
   "notebookName": "comment-utiliser-assistant-ai",
   "widgets": {}
  },
  "language_info": {
   "name": "python"
  }
 },
 "nbformat": 4,
 "nbformat_minor": 0
}
