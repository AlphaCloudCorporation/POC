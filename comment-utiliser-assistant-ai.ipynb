{
 "cells": [
  {
   "cell_type": "markdown",
   "metadata": {
    "application/vnd.databricks.v1+cell": {
     "cellMetadata": {},
     "inputWidgets": {},
     "nuid": "c2f6d469-4538-472e-805a-e7fc1d21f77c",
     "showTitle": false,
     "tableResultSettingsMap": {},
     "title": ""
    }
   },
   "source": [
    "# Assistant AI Intégré\n",
    "## Explication du code \n",
    "**L'assistant AI de Databrick peut être utilisé pour expliquer le contenu d'une cellule.**\n",
    "- Selectionner la cellule du bas.\n",
    "- Ouvrir la fenêtre de l'assistant AI (CTRL-I)\n",
    "- Écrire la commande suivante /explain\n",
    "- Appuyer sur Generer"
   ]
  },
  {
   "cell_type": "code",
   "execution_count": 0,
   "metadata": {
    "application/vnd.databricks.v1+cell": {
     "cellMetadata": {
      "byteLimit": 2048000,
      "implicitDf": true,
      "rowLimit": 10000
     },
     "inputWidgets": {},
     "nuid": "70325742-dcf0-44cd-8360-7fac9e5818ec",
     "showTitle": false,
     "tableResultSettingsMap": {},
     "title": ""
    }
   },
   "outputs": [],
   "source": [
    "# Import necessary libraries\n",
    "import numpy as np\n",
    "import matplotlib.pyplot as plt\n",
    "from sklearn.linear_model import LinearRegression\n",
    "from sklearn.model_selection import train_test_split\n",
    "\n",
    "# Sample dataset\n",
    "X = np.array([1, 2, 3, 4, 5]).reshape(-1, 1)  # Independent variable\n",
    "y = np.array([1.5, 3.7, 2.8, 4.9, 6.1])      # Dependent variable\n",
    "\n",
    "# Split the dataset into training and testing sets\n",
    "X_train, X_test, y_train, y_test = train_test_split(X, y, test_size=0.2, random_state=42)\n",
    "\n",
    "# Create and train the Linear Regression model\n",
    "model = LinearRegression()\n",
    "model.fit(X_train, y_train)\n",
    "\n",
    "# Make predictions\n",
    "y_pred = model.predict(X_test)\n",
    "\n",
    "# Print model coefficients\n",
    "print(f\"Coefficient (slope): {model.coef_[0]}\")\n",
    "print(f\"Intercept: {model.intercept_}\")\n",
    "\n",
    "# Plot the results\n",
    "plt.scatter(X, y, color='blue', label='Data points')\n",
    "plt.plot(X, model.predict(X), color='red', label='Regression line')\n",
    "plt.xlabel('Independent Variable')\n",
    "plt.ylabel('Dependent Variable')\n",
    "plt.legend()\n",
    "plt.show()"
   ]
  },
  {
   "cell_type": "markdown",
   "metadata": {
    "application/vnd.databricks.v1+cell": {
     "cellMetadata": {},
     "inputWidgets": {},
     "nuid": "93472211-a1e7-42ff-a16b-957dbd762b16",
     "showTitle": false,
     "tableResultSettingsMap": {},
     "title": ""
    }
   },
   "source": [
    "# Assistant AI Intégré\n",
    "## Refactorisation du code\n",
    "**L'assistant AI de Databrick peut être utilisé pour réorganiser votre code, afin de le rendre plus lisible.**\n",
    "- Selectionner la cellule du bas.\n",
    "- Ouvrir la fenêtre de l'assistant AI (CTRL-I)\n",
    "- Écrire la prompt suivante : refactor the code\n",
    "- Appuyer sur Generer"
   ]
  },
  {
   "cell_type": "code",
   "execution_count": 0,
   "metadata": {
    "application/vnd.databricks.v1+cell": {
     "cellMetadata": {},
     "inputWidgets": {},
     "nuid": "3a31d038-243e-40bf-af5d-f01769c7fd00",
     "showTitle": false,
     "tableResultSettingsMap": {},
     "title": ""
    }
   },
   "outputs": [],
   "source": [
    "# Import necessary libraries\n",
    "import numpy as np\n",
    "import matplotlib.pyplot as plt\n",
    "from sklearn.linear_model import LinearRegression\n",
    "from sklearn.model_selection import train_test_split\n",
    "\n",
    "# Sample dataset\n",
    "X = np.array([1, 2, 3, 4, 5]).reshape(-1, 1)  # Independent variable\n",
    "y = np.array([1.5, 3.7, 2.8, 4.9, 6.1])      # Dependent variable\n",
    "\n",
    "# Split the dataset into training and testing sets\n",
    "X_train, X_test, y_train, y_test = train_test_split(X, y, test_size=0.2, random_state=42)\n",
    "\n",
    "# Create and train the Linear Regression model\n",
    "model = LinearRegression()\n",
    "model.fit(X_train, y_train)\n",
    "\n",
    "# Make predictions\n",
    "y_pred = model.predict(X_test)\n",
    "\n",
    "# Print model coefficients\n",
    "print(f\"Coefficient (slope): {model.coef_[0]}\")\n",
    "print(f\"Intercept: {model.intercept_}\")\n",
    "\n",
    "# Plot the results\n",
    "plt.scatter(X, y, color='blue', label='Data points')\n",
    "plt.plot(X, model.predict(X), color='red', label='Regression line')\n",
    "plt.xlabel('Independent Variable')\n",
    "plt.ylabel('Dependent Variable')\n",
    "plt.legend()\n",
    "plt.show()"
   ]
  },
  {
   "cell_type": "markdown",
   "metadata": {
    "application/vnd.databricks.v1+cell": {
     "cellMetadata": {},
     "inputWidgets": {},
     "nuid": "cf742b5c-6f53-4a8f-b0f4-a8da38a7d9ae",
     "showTitle": false,
     "tableResultSettingsMap": {},
     "title": ""
    }
   },
   "source": [
    "# Assistant AI Intégré\n",
    "## Detection et correction des erreurs\n",
    "**L'assistant AI de databrick peut détecter automatiquement les erreures et vous proposer des solutions**\n",
    "- Selectionner la cellule du bas.\n",
    "- Ouvrir la fenêtre de l'assistant AI (CTRL-I)\n",
    "- Executer la cellule\n",
    "- Appuyer sur Diagnosic Error\n",
    "- Utiliser l'outil de correction integré pour corriger le problème"
   ]
  },
  {
   "cell_type": "code",
   "execution_count": 0,
   "metadata": {
    "application/vnd.databricks.v1+cell": {
     "cellMetadata": {
      "byteLimit": 2048000,
      "rowLimit": 10000
     },
     "inputWidgets": {},
     "nuid": "edbddbe5-c147-4e0c-a991-4cc2076510b2",
     "showTitle": false,
     "tableResultSettingsMap": {},
     "title": ""
    }
   },
   "outputs": [],
   "source": [
    "import numpy as np\n",
    "np.random.seed(42)\n",
    "\n",
    "animaux = {\"1\":\"Chien\", \"2\":\"Chat\", \"3\":\"Souris\", \"4\":\"Poisson\", \"5\":\"Ours\"}\n",
    "baleine = animaux[\"6\"] # Depassement de memoire\n",
    "\n",
    "print(baleine)\n",
    "\n",
    "\n"
   ]
  },
  {
   "cell_type": "markdown",
   "metadata": {
    "application/vnd.databricks.v1+cell": {
     "cellMetadata": {},
     "inputWidgets": {},
     "nuid": "48be3bd5-f078-48ac-a26f-2c41550d2510",
     "showTitle": false,
     "tableResultSettingsMap": {},
     "title": ""
    }
   },
   "source": [
    "# Assistant AI Intégré\n",
    "## Generation de code\n",
    "**L'assistant AI de Datbrick peut générer du code de qualité pour vous à partir de vos instructions.**\n",
    "- Selectionner la cellule du bas (la cellule est vide, c'est normal).\n",
    "- Ouvrir la fenêtre de l'assistant AI (CTRL-I)\n",
    "- Écrire la prompt suivante : Create a linear regression of type y = mx+b and test the regression using b = 0, m = 0.5 and x = 10, 15, 20, 25, 35, 45, 70. Create a plot diagrame to show the distribution\n",
    "- Appuyer sur Generer"
   ]
  },
  {
   "cell_type": "code",
   "execution_count": 0,
   "metadata": {
    "application/vnd.databricks.v1+cell": {
     "cellMetadata": {
      "byteLimit": 2048000,
      "rowLimit": 10000
     },
     "inputWidgets": {},
     "nuid": "b3a2a1cd-3919-463d-9a78-45c3af849051",
     "showTitle": false,
     "tableResultSettingsMap": {},
     "title": ""
    }
   },
   "outputs": [],
   "source": []
  }
 ],
 "metadata": {
  "application/vnd.databricks.v1+notebook": {
   "computePreferences": null,
   "dashboards": [],
   "environmentMetadata": {
    "base_environment": "",
    "environment_version": "3"
   },
   "inputWidgetPreferences": null,
   "language": "python",
   "notebookMetadata": {
    "mostRecentlyExecutedCommandWithImplicitDF": {
     "commandId": 5976101695008259,
     "dataframes": [
      "_sqldf"
     ]
    },
    "pythonIndentUnit": 4
   },
   "notebookName": "comment-utiliser-assistant-ai",
   "widgets": {}
  },
  "language_info": {
   "name": "python"
  }
 },
 "nbformat": 4,
 "nbformat_minor": 0
}
